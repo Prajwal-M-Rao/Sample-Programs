{
 "cells": [
  {
   "cell_type": "code",
   "execution_count": 18,
   "id": "268763e1",
   "metadata": {},
   "outputs": [],
   "source": [
    "from sklearn.datasets import load_iris\n",
    "from sklearn.model_selection import train_test_split\n",
    "from sklearn.svm  import SVC\n",
    "from sklearn.metrics import accuracy_score"
   ]
  },
  {
   "cell_type": "code",
   "execution_count": 19,
   "id": "cf43b51d",
   "metadata": {},
   "outputs": [],
   "source": [
    "iris=load_iris()\n",
    "X=iris.data\n",
    "y=iris.target"
   ]
  },
  {
   "cell_type": "code",
   "execution_count": 20,
   "id": "acbb27c6",
   "metadata": {},
   "outputs": [],
   "source": [
    "X_train,X_test,y_train,y_test=train_test_split(X,y,test_size=0.2,random_state=42)"
   ]
  },
  {
   "cell_type": "code",
   "execution_count": 21,
   "id": "921cecc8",
   "metadata": {},
   "outputs": [],
   "source": [
    "C_values=[0.01,1,10]\n",
    "gamma_values=[0.5]\n",
    "kernal_types=['rbf']\n",
    "best_accuracy=0\n",
    "best_Model=None\n",
    "best_support_vectors=None"
   ]
  },
  {
   "cell_type": "code",
   "execution_count": 22,
   "id": "2a1d6174",
   "metadata": {},
   "outputs": [],
   "source": [
    "for kernel in kernal_types:\n",
    "    for c in C_values:\n",
    "        for gamma in gamma_values:\n",
    "            svm=SVC(kernel=kernel,C=c,gamma=gamma,decision_function_shape='ovr')\n",
    "            svm.fit(X_train,y_train)\n",
    "            y_pred=svm.predict(X_test)\n",
    "            accuracy=accuracy_score(y_test,y_pred)\n",
    "            if accuracy>best_accuracy:\n",
    "                best_accuracy=accuracy\n",
    "                best_Model=svm\n",
    "                best_support_vectors=len(svm.support_)"
   ]
  },
  {
   "cell_type": "code",
   "execution_count": 23,
   "id": "ab592fa9",
   "metadata": {},
   "outputs": [
    {
     "name": "stdout",
     "output_type": "stream",
     "text": [
      "Best Classification accuracy : 1.00\n",
      "Total number of support vectors:39\n"
     ]
    }
   ],
   "source": [
    "print(f\"Best Classification accuracy : {best_accuracy:.2f}\")\n",
    "print(f\"Total number of support vectors:{best_support_vectors}\")"
   ]
  },
  {
   "cell_type": "code",
   "execution_count": null,
   "id": "74d8e042",
   "metadata": {},
   "outputs": [],
   "source": []
  },
  {
   "cell_type": "code",
   "execution_count": null,
   "id": "84e4c919",
   "metadata": {},
   "outputs": [],
   "source": []
  }
 ],
 "metadata": {
  "kernelspec": {
   "display_name": "Python 3",
   "language": "python",
   "name": "python3"
  },
  "language_info": {
   "codemirror_mode": {
    "name": "ipython",
    "version": 3
   },
   "file_extension": ".py",
   "mimetype": "text/x-python",
   "name": "python",
   "nbconvert_exporter": "python",
   "pygments_lexer": "ipython3",
   "version": "3.12.2"
  }
 },
 "nbformat": 4,
 "nbformat_minor": 5
}
